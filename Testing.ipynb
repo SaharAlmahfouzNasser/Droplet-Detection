{
 "cells": [
  {
   "cell_type": "code",
   "execution_count": 18,
   "metadata": {},
   "outputs": [
    {
     "name": "stdout",
     "output_type": "stream",
     "text": [
      "Done\n"
     ]
    }
   ],
   "source": [
    "from zipfile import ZipFile\n",
    "file_name = 'Testing.zip'\n",
    "with ZipFile(file_name,'r') as zip:\n",
    "    zip.extractall()\n",
    "    print('Done') "
   ]
  },
  {
   "cell_type": "code",
   "execution_count": 19,
   "metadata": {},
   "outputs": [
    {
     "name": "stdout",
     "output_type": "stream",
     "text": [
      "PyTorch Version:  1.4.0\n",
      "Torchvision Version:  0.5.0\n"
     ]
    }
   ],
   "source": [
    "from __future__ import print_function \n",
    "from __future__ import division\n",
    "import torch\n",
    "import torch.nn as nn\n",
    "import torch.nn.functional as F\n",
    "import torch.optim as optim\n",
    "import numpy as np\n",
    "import torchvision\n",
    "from torchvision import datasets, models, transforms\n",
    "from torch.autograd import Variable\n",
    "import matplotlib.pyplot as plt\n",
    "import time\n",
    "import os\n",
    "import copy\n",
    "from torch.optim import lr_scheduler\n",
    "import pickle\n",
    "print(\"PyTorch Version: \",torch.__version__)\n",
    "print(\"Torchvision Version: \",torchvision.__version__)"
   ]
  },
  {
   "cell_type": "code",
   "execution_count": 20,
   "metadata": {},
   "outputs": [],
   "source": [
    "weight_file = './TL_weights/weights43.pth'\n",
    "\n",
    "model = torch.load(weight_file)\n",
    "input_size = 224\n",
    "data_transforms = {\n",
    "        'Test': transforms.Compose([\n",
    "            transforms.Resize(input_size),\n",
    "            transforms.CenterCrop(input_size),\n",
    "            transforms.ToTensor(),\n",
    "            transforms.Normalize([0.485, 0.456, 0.406], [0.229, 0.224, 0.225])\n",
    "            #,transforms.Grayscale(num_output_channels=1)\n",
    "        ]),\n",
    "    }\n",
    "# Create testing dataset\n",
    "data_dir_t = \"./Testing\"\n",
    "image_datasets_test = {x: datasets.ImageFolder(os.path.join(data_dir_t, x), data_transforms[x]) for x in ['Test']}\n",
    "# Create testing dataloader\n",
    "dataloaders_dict_test = {x: torch.utils.data.DataLoader(image_datasets_test[x], batch_size=1, shuffle=True, num_workers=0) for x in ['Test']}\n",
    "device = torch.device(\"cuda:0\" if torch.cuda.is_available() else \"cpu\")\n",
    "    "
   ]
  },
  {
   "cell_type": "code",
   "execution_count": 21,
   "metadata": {},
   "outputs": [
    {
     "name": "stdout",
     "output_type": "stream",
     "text": [
      "[array([1]), array([1]), array([1]), array([0]), array([0]), array([1])]\n"
     ]
    }
   ],
   "source": [
    "predictions = []\n",
    "outputs = []\n",
    "\n",
    "for Input, label in dataloaders_dict_test['Test']:\n",
    "\n",
    "    output = model(Input.to(device))\n",
    "    \n",
    "    softmax = torch.exp(output).cpu().detach().numpy()\n",
    "    prob = list(softmax)\n",
    "    prediction = np.argmax(prob, axis=1)\n",
    "    predictions.append(prediction)\n",
    "    outputs.append(output)\n",
    "print(predictions)"
   ]
  }
 ],
 "metadata": {
  "kernelspec": {
   "display_name": "vEnv3",
   "language": "python",
   "name": "venv3"
  },
  "language_info": {
   "codemirror_mode": {
    "name": "ipython",
    "version": 3
   },
   "file_extension": ".py",
   "mimetype": "text/x-python",
   "name": "python",
   "nbconvert_exporter": "python",
   "pygments_lexer": "ipython3",
   "version": "3.6.5"
  }
 },
 "nbformat": 4,
 "nbformat_minor": 2
}
